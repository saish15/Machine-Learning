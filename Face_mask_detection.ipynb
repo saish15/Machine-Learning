{
  "nbformat": 4,
  "nbformat_minor": 0,
  "metadata": {
    "colab": {
      "name": "Face mask detection.ipynb",
      "provenance": [],
      "authorship_tag": "ABX9TyPuyLZIo+/vVNLX4Y5PQMik",
      "include_colab_link": true
    },
    "kernelspec": {
      "display_name": "Python 3",
      "name": "python3"
    }
  },
  "cells": [
    {
      "cell_type": "markdown",
      "metadata": {
        "id": "view-in-github",
        "colab_type": "text"
      },
      "source": [
        "<a href=\"https://colab.research.google.com/github/saish15/Machine-Learning/blob/master/Face_mask_detection.ipynb\" target=\"_parent\"><img src=\"https://colab.research.google.com/assets/colab-badge.svg\" alt=\"Open In Colab\"/></a>"
      ]
    },
    {
      "cell_type": "markdown",
      "metadata": {
        "id": "Nvtfy8pusGyi"
      },
      "source": [
        "**Real-Time Face Mask Detection Using Deep Learning and OpenCV**"
      ]
    },
    {
      "cell_type": "markdown",
      "metadata": {
        "id": "pTIzdqdbsX_O"
      },
      "source": [
        "\n",
        "**Import Required Libraries**"
      ]
    },
    {
      "cell_type": "code",
      "metadata": {
        "id": "XK1QEH7Vp3VT"
      },
      "source": [
        "import cv2,os\n",
        "import numpy as np\n",
        "#from tensorflow.keras.models import Sequential\n",
        "#from tensorflow.keras.layers import Dense\n",
        "from keras.utils import np_utils\n",
        "from keras.models import Sequential\n",
        "from keras.layers import  Dense, Activation, Dropout, Conv2D, Flatten, MaxPooling2D\n",
        "from keras.callbacks import ModelCheckpoint\n",
        "from sklearn.model_selection import train_test_split\n",
        "from matplotlib import pyplot as plt\n",
        "from keras.models import load_model\n",
        "\n",
        "import warnings\n",
        "warnings.filterwarnings(\"ignore\")"
      ],
      "execution_count": null,
      "outputs": []
    },
    {
      "cell_type": "code",
      "metadata": {
        "colab": {
          "base_uri": "https://localhost:8080/"
        },
        "id": "TKCp5-xUsrsW",
        "outputId": "e83b3ecd-6b88-4e54-8be5-9a75b0cfc23a"
      },
      "source": [
        "from google.colab import drive\n",
        "drive.mount('/content/drive')\n",
        "!ls \"/content/drive/My Drive/Face_recognition\""
      ],
      "execution_count": null,
      "outputs": [
        {
          "output_type": "stream",
          "text": [
            "Drive already mounted at /content/drive; to attempt to forcibly remount, call drive.mount(\"/content/drive\", force_remount=True).\n",
            "with_mask  without_mask\n"
          ],
          "name": "stdout"
        }
      ]
    },
    {
      "cell_type": "code",
      "metadata": {
        "colab": {
          "base_uri": "https://localhost:8080/"
        },
        "id": "BLSdT2Y1tS0f",
        "outputId": "f132fc67-bf52-44ae-e34e-aa7fb189ffab"
      },
      "source": [
        "data= os.listdir('../content/drive/My Drive/Face_recognition')\n",
        "data"
      ],
      "execution_count": null,
      "outputs": [
        {
          "output_type": "execute_result",
          "data": {
            "text/plain": [
              "['without_mask', 'with_mask']"
            ]
          },
          "metadata": {
            "tags": []
          },
          "execution_count": 32
        }
      ]
    },
    {
      "cell_type": "code",
      "metadata": {
        "colab": {
          "base_uri": "https://localhost:8080/"
        },
        "id": "SX2ip8uDsi08",
        "outputId": "ceaca472-2141-4642-f08a-6ebf1558c097"
      },
      "source": [
        "#use the file path where the dataset is stored\n",
        "data_path = r'../content/drive/My Drive/Face_recognition'\n",
        "categories = os.listdir(data_path)\n",
        "labels = [i for i in range(len(categories))]\n",
        "label_dict = dict(zip(categories,labels))\n",
        "print(label_dict)\n",
        "print(categories)\n",
        "print(labels)"
      ],
      "execution_count": null,
      "outputs": [
        {
          "output_type": "stream",
          "text": [
            "{'without_mask': 0, 'with_mask': 1}\n",
            "['without_mask', 'with_mask']\n",
            "[0, 1]\n"
          ],
          "name": "stdout"
        }
      ]
    },
    {
      "cell_type": "markdown",
      "metadata": {
        "id": "JHCRJuMauGYU"
      },
      "source": [
        "\n",
        "**Make lists for data and target:**"
      ]
    },
    {
      "cell_type": "code",
      "metadata": {
        "id": "bPb9F1DMuCc7"
      },
      "source": [
        "img_size = 150\n",
        "data = []\n",
        "target = []\n",
        "for category in categories:\n",
        "    folder_path = os.path.join(data_path,category) \n",
        "    img_names = os.listdir(folder_path)\n",
        "    \n",
        "    for img_name in img_names:\n",
        "        img_path = os.path.join(folder_path,img_name)\n",
        "        img = cv2.imread(img_path)\n",
        "        try:\n",
        "            gray = cv2.cvtColor(img,cv2.COLOR_BGR2GRAY)\n",
        "            resized = cv2.resize(gray,(img_size,img_size))\n",
        "            data.append(resized)\n",
        "            target.append(label_dict[category])\n",
        "        \n",
        "        except Exception as e:\n",
        "            print(\"Exception: \",e)"
      ],
      "execution_count": null,
      "outputs": []
    },
    {
      "cell_type": "markdown",
      "metadata": {
        "id": "egkPtM56uXZD"
      },
      "source": [
        "**Design a Convolutional Neural Network (CNN) Model**"
      ]
    },
    {
      "cell_type": "code",
      "metadata": {
        "id": "v_S98UBDuSVX"
      },
      "source": [
        "#data values are normalized\n",
        "data = np.array(data)/255.0\n",
        "\n",
        "#reshaping of data                                                \n",
        "data = np.reshape(data,(data.shape[0],img_size,img_size,1))\n",
        "target = np.array(target)\n",
        "new_target = np_utils.to_categorical(target)\n",
        "\n",
        "#saving the files\n",
        "np.save('data',data)\n",
        "np.save('target',new_target)"
      ],
      "execution_count": null,
      "outputs": []
    },
    {
      "cell_type": "code",
      "metadata": {
        "colab": {
          "base_uri": "https://localhost:8080/"
        },
        "id": "5j44pWiwvj7a",
        "outputId": "379579c6-937d-4230-e5ff-1a426829d992"
      },
      "source": [
        "data = np.load('../content/drive/My Drive/data_harr/data.npy')\n",
        "target = np.load('../content/drive/My Drive/data_harr/target.npy')\n",
        "\n",
        "model = Sequential()\n",
        "\n",
        "model.add(Conv2D(200,(3,3),input_shape=data.shape[1:]))\n",
        "model.add(Activation('relu'))\n",
        "model.add(MaxPooling2D(pool_size=(2,2)))\n",
        "\n",
        "model.add(Conv2D(100,(3,3)))\n",
        "model.add(Activation('relu'))\n",
        "model.add(MaxPooling2D(pool_size=(2,2)))\n",
        "\n",
        "model.add(Flatten())\n",
        "model.add(Dropout(0.5))\n",
        "\n",
        "model.add(Dense(50,activation='relu'))\n",
        "model.add(Dense(2,activation='softmax'))\n",
        "\n",
        "model.compile(optimizer='adam', loss='categorical_crossentropy', metrics = ['acc'])\n",
        "\n",
        "model.summary()"
      ],
      "execution_count": null,
      "outputs": [
        {
          "output_type": "stream",
          "text": [
            "Model: \"sequential_2\"\n",
            "_________________________________________________________________\n",
            "Layer (type)                 Output Shape              Param #   \n",
            "=================================================================\n",
            "conv2d_4 (Conv2D)            (None, 98, 98, 200)       2000      \n",
            "_________________________________________________________________\n",
            "activation_4 (Activation)    (None, 98, 98, 200)       0         \n",
            "_________________________________________________________________\n",
            "max_pooling2d_4 (MaxPooling2 (None, 49, 49, 200)       0         \n",
            "_________________________________________________________________\n",
            "conv2d_5 (Conv2D)            (None, 47, 47, 100)       180100    \n",
            "_________________________________________________________________\n",
            "activation_5 (Activation)    (None, 47, 47, 100)       0         \n",
            "_________________________________________________________________\n",
            "max_pooling2d_5 (MaxPooling2 (None, 23, 23, 100)       0         \n",
            "_________________________________________________________________\n",
            "flatten_2 (Flatten)          (None, 52900)             0         \n",
            "_________________________________________________________________\n",
            "dropout_2 (Dropout)          (None, 52900)             0         \n",
            "_________________________________________________________________\n",
            "dense_4 (Dense)              (None, 50)                2645050   \n",
            "_________________________________________________________________\n",
            "dense_5 (Dense)              (None, 2)                 102       \n",
            "=================================================================\n",
            "Total params: 2,827,252\n",
            "Trainable params: 2,827,252\n",
            "Non-trainable params: 0\n",
            "_________________________________________________________________\n"
          ],
          "name": "stdout"
        }
      ]
    },
    {
      "cell_type": "markdown",
      "metadata": {
        "id": "or5bEw7lvpJr"
      },
      "source": [
        "**Train the Model**"
      ]
    },
    {
      "cell_type": "code",
      "metadata": {
        "id": "a2aiTt4ivmWD"
      },
      "source": [
        "#10% of data as testing and 90% as training data\n",
        "train_data, test_data, train_target, test_target = train_test_split(data, target, test_size=0.1)"
      ],
      "execution_count": null,
      "outputs": []
    },
    {
      "cell_type": "code",
      "metadata": {
        "colab": {
          "base_uri": "https://localhost:8080/"
        },
        "id": "0CV8KsNlv5pv",
        "outputId": "8e7bd3a2-c3eb-4d77-ad80-8f7c3b154c10"
      },
      "source": [
        "checkpoint=ModelCheckpoint('model-{epoch:03d}.model', monitor='val_loss', verbose = 0, save_best_only = True,mode='auto')\n",
        "history = model.fit(train_data,train_target,epochs = 20, callbacks = [checkpoint], validation_split = 0.2)"
      ],
      "execution_count": null,
      "outputs": [
        {
          "output_type": "stream",
          "text": [
            "Epoch 1/20\n",
            "31/31 [==============================] - 78s 2s/step - loss: 0.8860 - acc: 0.4987 - val_loss: 0.6633 - val_acc: 0.6573\n",
            "INFO:tensorflow:Assets written to: model-001.model/assets\n",
            "Epoch 2/20\n",
            "31/31 [==============================] - 91s 3s/step - loss: 0.6306 - acc: 0.6589 - val_loss: 0.5139 - val_acc: 0.7782\n",
            "INFO:tensorflow:Assets written to: model-002.model/assets\n",
            "Epoch 3/20\n",
            "31/31 [==============================] - 76s 2s/step - loss: 0.4127 - acc: 0.8218 - val_loss: 0.4060 - val_acc: 0.8065\n",
            "INFO:tensorflow:Assets written to: model-003.model/assets\n",
            "Epoch 4/20\n",
            "31/31 [==============================] - 76s 2s/step - loss: 0.2689 - acc: 0.8739 - val_loss: 0.3025 - val_acc: 0.8790\n",
            "INFO:tensorflow:Assets written to: model-004.model/assets\n",
            "Epoch 5/20\n",
            "31/31 [==============================] - 75s 2s/step - loss: 0.1688 - acc: 0.9575 - val_loss: 0.2895 - val_acc: 0.8871\n",
            "INFO:tensorflow:Assets written to: model-005.model/assets\n",
            "Epoch 6/20\n",
            "31/31 [==============================] - 76s 2s/step - loss: 0.1473 - acc: 0.9447 - val_loss: 0.3498 - val_acc: 0.8831\n",
            "Epoch 7/20\n",
            "31/31 [==============================] - 76s 2s/step - loss: 0.1105 - acc: 0.9567 - val_loss: 0.2486 - val_acc: 0.9113\n",
            "INFO:tensorflow:Assets written to: model-007.model/assets\n",
            "Epoch 8/20\n",
            "31/31 [==============================] - 76s 2s/step - loss: 0.0431 - acc: 0.9942 - val_loss: 0.2169 - val_acc: 0.9194\n",
            "INFO:tensorflow:Assets written to: model-008.model/assets\n",
            "Epoch 9/20\n",
            "31/31 [==============================] - 76s 2s/step - loss: 0.0624 - acc: 0.9762 - val_loss: 0.2659 - val_acc: 0.9073\n",
            "Epoch 10/20\n",
            "31/31 [==============================] - 76s 2s/step - loss: 0.0384 - acc: 0.9891 - val_loss: 0.2358 - val_acc: 0.9113\n",
            "Epoch 11/20\n",
            "31/31 [==============================] - 76s 2s/step - loss: 0.0394 - acc: 0.9893 - val_loss: 0.2432 - val_acc: 0.9274\n",
            "Epoch 12/20\n",
            "31/31 [==============================] - 76s 2s/step - loss: 0.0270 - acc: 0.9894 - val_loss: 0.2971 - val_acc: 0.9234\n",
            "Epoch 13/20\n",
            "31/31 [==============================] - 76s 2s/step - loss: 0.0230 - acc: 0.9958 - val_loss: 0.2919 - val_acc: 0.9315\n",
            "Epoch 14/20\n",
            "31/31 [==============================] - 76s 2s/step - loss: 0.0268 - acc: 0.9925 - val_loss: 0.2580 - val_acc: 0.9274\n",
            "Epoch 15/20\n",
            "31/31 [==============================] - 76s 2s/step - loss: 0.0225 - acc: 0.9944 - val_loss: 0.2679 - val_acc: 0.9395\n",
            "Epoch 16/20\n",
            "31/31 [==============================] - 77s 2s/step - loss: 0.0335 - acc: 0.9875 - val_loss: 0.2870 - val_acc: 0.9194\n",
            "Epoch 17/20\n",
            "31/31 [==============================] - 77s 2s/step - loss: 0.0457 - acc: 0.9821 - val_loss: 0.3310 - val_acc: 0.9315\n",
            "Epoch 18/20\n",
            "31/31 [==============================] - 76s 2s/step - loss: 0.0345 - acc: 0.9855 - val_loss: 0.2741 - val_acc: 0.9194\n",
            "Epoch 19/20\n",
            "31/31 [==============================] - 76s 2s/step - loss: 0.0236 - acc: 0.9942 - val_loss: 0.2739 - val_acc: 0.9274\n",
            "Epoch 20/20\n",
            "31/31 [==============================] - 76s 2s/step - loss: 0.0149 - acc: 0.9954 - val_loss: 0.2836 - val_acc: 0.9274\n"
          ],
          "name": "stdout"
        }
      ]
    },
    {
      "cell_type": "markdown",
      "metadata": {
        "id": "zMR5OtAnwJD0"
      },
      "source": [
        "**Evaluate the Model**"
      ]
    },
    {
      "cell_type": "code",
      "metadata": {
        "colab": {
          "base_uri": "https://localhost:8080/",
          "height": 542
        },
        "id": "89qRft_wwMJU",
        "outputId": "a58b52a9-353b-4c0a-8050-2fa01aee22ff"
      },
      "source": [
        "plt.plot(history.history['acc'],'r',label='training accuracy')\n",
        "plt.plot(history.history['val_acc'],'b',label='validation accuracy')\n",
        "plt.xlabel('epochs')\n",
        "plt.ylabel('accuracy')\n",
        "plt.legend()\n",
        "plt.show()\n",
        "\n",
        "plt.plot(history.history['loss'],'r',label='training loss')\n",
        "plt.plot(history.history['val_loss'],'b',label='validation loss')\n",
        "plt.xlabel('epochs')\n",
        "plt.ylabel('loss')\n",
        "plt.legend()\n",
        "plt.show()"
      ],
      "execution_count": null,
      "outputs": [
        {
          "output_type": "display_data",
          "data": {
            "image/png": "[encoded data removed]",
            "text/plain": [
              "<Figure size 432x288 with 1 Axes>"
            ]
          },
          "metadata": {
            "tags": [],
            "needs_background": "light"
          }
        },
        {
          "output_type": "display_data",
          "data": {
            "image/png": "[encoded data removed]",
            "text/plain": [
              "<Figure size 432x288 with 1 Axes>"
            ]
          },
          "metadata": {
            "tags": [],
            "needs_background": "light"
          }
        }
      ]
    },
    {
      "cell_type": "code",
      "metadata": {
        "colab": {
          "base_uri": "https://localhost:8080/"
        },
        "id": "dMUVmgsG-K5O",
        "outputId": "2de3c69c-674a-4670-db71-a475dd34adc8"
      },
      "source": [
        "print(model.evaluate(test_data,test_target))"
      ],
      "execution_count": null,
      "outputs": [
        {
          "output_type": "stream",
          "text": [
            "5/5 [==============================] - 3s 525ms/step - loss: 0.3202 - acc: 0.9348\n",
            "[0.32017114758491516, 0.9347826242446899]\n"
          ],
          "name": "stdout"
        }
      ]
    },
    {
      "cell_type": "markdown",
      "metadata": {
        "id": "aJlQ4G3V-Uwp"
      },
      "source": [
        "\n",
        "**Detect the Face Masks using the HaarCascade_frontalface_default.xml file in real time**"
      ]
    },
    {
      "cell_type": "code",
      "metadata": {
        "id": "lC5rkzNEVvD8"
      },
      "source": [
        "from IPython.display import display, Javascript\n",
        "from google.colab.output import eval_js\n",
        "from base64 import b64decode\n",
        "\n",
        "def take_photo(filename='photo.jpg', quality=0.8):\n",
        "  js = Javascript('''\n",
        "    async function takePhoto(quality) {\n",
        "      const div = document.createElement('div');\n",
        "      const capture = document.createElement('button');\n",
        "      capture.textContent = 'Capture';\n",
        "      div.appendChild(capture);\n",
        "\n",
        "      const video = document.createElement('video');\n",
        "      video.style.display = 'block';\n",
        "      const stream = await navigator.mediaDevices.getUserMedia({video: true});\n",
        "\n",
        "      document.body.appendChild(div);\n",
        "      div.appendChild(video);\n",
        "      video.srcObject = stream;\n",
        "      await video.play();\n",
        "\n",
        "      // Resize the output to fit the video element.\n",
        "      google.colab.output.setIframeHeight(document.documentElement.scrollHeight, true);\n",
        "\n",
        "      // Wait for Capture to be clicked.\n",
        "      await new Promise((resolve) => capture.onclick = resolve);\n",
        "\n",
        "      const canvas = document.createElement('canvas');\n",
        "      canvas.width = video.videoWidth;\n",
        "      canvas.height = video.videoHeight;\n",
        "      canvas.getContext('2d').drawImage(video, 0, 0);\n",
        "      stream.getVideoTracks()[0].stop();\n",
        "      div.remove();\n",
        "      return canvas.toDataURL('image/jpeg', quality);\n",
        "    }\n",
        "    ''')\n",
        "  display(js)\n",
        "  data = eval_js('takePhoto({})'.format(quality))\n",
        "  binary = b64decode(data.split(',')[1])\n",
        "  with open(filename, 'wb') as f:\n",
        "    f.write(binary)\n",
        "  return filename"
      ],
      "execution_count": null,
      "outputs": []
    },
    {
      "cell_type": "code",
      "metadata": {
        "id": "Fs6K5z4vXA09"
      },
      "source": [
        "\n",
        "model = load_model('model-009.model') #load the best model\n",
        "\n",
        "faceCascade=cv2.CascadeClassifier(r'C:\\Users\\ALEX MANENO\\Desktop\\AI&ML2020\\5. Deep Learning\\Tests & Assignments\\Test 2\\haarcascade_frontalface_default.xml')\n",
        "\n",
        "video_capture = cv2.VideoCapture(0)  #starts the webcam\n",
        "\n",
        "labels_dict = {0:'NO MASK',1:'MASK'}\n",
        "color_dict  = { 0:(0,0,255),1:(0,255,0)}\n",
        "\n",
        "while(True):\n",
        "    ret,frame = filename.read()\n",
        "    gray = cv2.cvtColor(frame,cv2.COLOR_BGR2GRAY)\n",
        "    faces = faceCascade.detectMultiScale(gray,1.3,5)\n",
        "    \n",
        "    for x,y,w,h in faces:\n",
        "        face_img = gray[y:y+w,x:x+h]\n",
        "        resized = cv2.resize(face_img,(img_size,img_size))\n",
        "        normalized = resized/255.0\n",
        "        reshaped = np.reshape(normalized,(1,img_size,img_size,1))\n",
        "        result = model.predict(reshaped)\n",
        "        \n",
        "        label = np.argmax(result,axis=1)[0]\n",
        "        cv2.rectangle(frame,(x,y),(x+w,y+h),color_dict[label],2)\n",
        "        cv2.putText(frame,labels_dict[label],(x,y-10),cv2.FONT_HERSHEY_SIMPLEX,0.8,(255,255,255),2)\n",
        "        \n",
        "    cv2.imshow('Video',frame)\n",
        "    key=cv2.waitKey(1)\n",
        "    \n",
        "    if(key==27):\n",
        "        break;\n",
        "        \n",
        "cv2.destroyAllWindows()\n",
        ".release()"
      ],
      "execution_count": null,
      "outputs": []
    }
  ]
}